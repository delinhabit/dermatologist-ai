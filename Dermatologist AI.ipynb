{
 "cells": [
  {
   "cell_type": "markdown",
   "metadata": {},
   "source": [
    "# Getting Started"
   ]
  },
  {
   "cell_type": "markdown",
   "metadata": {},
   "source": [
    "Let's start by downloading the needed train, validation and test images."
   ]
  },
  {
   "cell_type": "code",
   "execution_count": null,
   "metadata": {},
   "outputs": [],
   "source": [
    "import os\n",
    "import zipfile\n",
    "import requests\n",
    "import shutil\n",
    "\n",
    "\n",
    "def download_file_from_url(url, local_filename):\n",
    "    r = requests.get(url, stream=True)\n",
    "    with open(local_filename, 'wb') as f:\n",
    "        shutil.copyfileobj(r.raw, f)\n",
    "\n",
    "\n",
    "def download_dataset(url, directory='data/'):\n",
    "    dataset_name, file_ext = os.path.splitext(os.path.basename(url))\n",
    "    file_name = \"{}{}{}\".format(directory, dataset_name, file_ext)\n",
    "    if not os.path.exists(file_name):\n",
    "        print(\"Downloading {} dataset...\".format(dataset_name), end='', flush=True)\n",
    "        download_file_from_url(url, file_name)\n",
    "        \n",
    "        if file_ext == '.zip':\n",
    "            with zipfile.ZipFile(file_name, \"r\") as zip_ref:\n",
    "                zip_ref.extractall(directory)\n",
    "        print(\"DONE\")\n",
    "    else:\n",
    "        print(\"{} dataset already downloaded\".format(dataset_name))\n",
    "\n",
    "\n",
    "# Create data directories if don't exist\n",
    "for dataset in (\"train\", \"valid\", \"test\"):\n",
    "    directory = \"data/{}\".format(dataset)\n",
    "    os.makedirs(directory, exist_ok=True)\n",
    "    download_dataset(\n",
    "        \"https://s3-us-west-1.amazonaws.com/udacity-dlnfd/datasets/skin-cancer/{}.zip\".format(dataset),\n",
    "        directory\n",
    "    )"
   ]
  },
  {
   "cell_type": "code",
   "execution_count": null,
   "metadata": {},
   "outputs": [],
   "source": []
  }
 ],
 "metadata": {
  "kernelspec": {
   "display_name": "Python 3",
   "language": "python",
   "name": "python3"
  },
  "language_info": {
   "codemirror_mode": {
    "name": "ipython",
    "version": 3
   },
   "file_extension": ".py",
   "mimetype": "text/x-python",
   "name": "python",
   "nbconvert_exporter": "python",
   "pygments_lexer": "ipython3",
   "version": "3.5.2"
  }
 },
 "nbformat": 4,
 "nbformat_minor": 2
}
